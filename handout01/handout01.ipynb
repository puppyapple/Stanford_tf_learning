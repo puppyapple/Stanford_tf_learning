{
 "cells": [
  {
   "cell_type": "markdown",
   "metadata": {
    "deletable": true,
    "editable": true
   },
   "source": [
    "# Small exercises"
   ]
  },
  {
   "cell_type": "code",
   "execution_count": 1,
   "metadata": {
    "collapsed": true,
    "deletable": true,
    "editable": true
   },
   "outputs": [],
   "source": [
    "import tensorflow as tf"
   ]
  },
  {
   "cell_type": "code",
   "execution_count": 2,
   "metadata": {
    "collapsed": true,
    "deletable": true,
    "editable": true
   },
   "outputs": [],
   "source": [
    "###############################################################################\n",
    "# 1a: Create two random 0-d tensors x and y of any distribution.\n",
    "# Create a TensorFlow object that returns x + y if x > y, and x - y otherwise.\n",
    "# Hint: look up tf.cond()\n",
    "# I do the first problem for you\n",
    "###############################################################################"
   ]
  },
  {
   "cell_type": "code",
   "execution_count": 3,
   "metadata": {
    "collapsed": true,
    "deletable": true,
    "editable": true
   },
   "outputs": [],
   "source": [
    "x = tf.random_uniform([])  # Empty array as shape creates a scalar.\n",
    "y = tf.random_uniform([])\n",
    "out = tf.cond(tf.greater(x, y), lambda: tf.add(x, y), lambda: tf.subtract(x, y))"
   ]
  },
  {
   "cell_type": "code",
   "execution_count": 4,
   "metadata": {
    "collapsed": false,
    "deletable": true,
    "editable": true
   },
   "outputs": [
    {
     "data": {
      "text/plain": [
       "<tf.Tensor 'cond/Merge:0' shape=() dtype=float32>"
      ]
     },
     "execution_count": 4,
     "metadata": {},
     "output_type": "execute_result"
    }
   ],
   "source": [
    "out"
   ]
  },
  {
   "cell_type": "code",
   "execution_count": 5,
   "metadata": {
    "collapsed": false,
    "deletable": true,
    "editable": true
   },
   "outputs": [
    {
     "name": "stdout",
     "output_type": "stream",
     "text": [
      "(0.74362648, 0.80384016, 1.3366944)\n"
     ]
    }
   ],
   "source": [
    "with tf.Session() as sess:\n",
    "    print (sess.run(x), sess.run(y), sess.run(out))"
   ]
  },
  {
   "cell_type": "code",
   "execution_count": 6,
   "metadata": {
    "collapsed": true,
    "deletable": true,
    "editable": true
   },
   "outputs": [],
   "source": [
    "###############################################################################\n",
    "# 1b: Create two 0-d tensors x and y randomly selected from the range [-1, 1).\n",
    "# Return x + y if x < y, x - y if x > y, 0 otherwise.\n",
    "# Hint: Look up tf.case().\n",
    "###############################################################################"
   ]
  },
  {
   "cell_type": "code",
   "execution_count": 7,
   "metadata": {
    "collapsed": true,
    "deletable": true,
    "editable": true
   },
   "outputs": [
    {
     "name": "stdout",
     "output_type": "stream",
     "text": [
      "Help on function random_uniform in module tensorflow.python.ops.random_ops:\n",
      "\n",
      "random_uniform(shape, minval=0, maxval=None, dtype=tf.float32, seed=None, name=None)\n",
      "    Outputs random values from a uniform distribution.\n",
      "    \n",
      "    The generated values follow a uniform distribution in the range\n",
      "    `[minval, maxval)`. The lower bound `minval` is included in the range, while\n",
      "    the upper bound `maxval` is excluded.\n",
      "    \n",
      "    For floats, the default range is `[0, 1)`.  For ints, at least `maxval` must\n",
      "    be specified explicitly.\n",
      "    \n",
      "    In the integer case, the random integers are slightly biased unless\n",
      "    `maxval - minval` is an exact power of two.  The bias is small for values of\n",
      "    `maxval - minval` significantly smaller than the range of the output (either\n",
      "    `2**32` or `2**64`).\n",
      "    \n",
      "    Args:\n",
      "      shape: A 1-D integer Tensor or Python array. The shape of the output tensor.\n",
      "      minval: A 0-D Tensor or Python value of type `dtype`. The lower bound on the\n",
      "        range of random values to generate.  Defaults to 0.\n",
      "      maxval: A 0-D Tensor or Python value of type `dtype`. The upper bound on\n",
      "        the range of random values to generate.  Defaults to 1 if `dtype` is\n",
      "        floating point.\n",
      "      dtype: The type of the output: 'float16`, `float32`, `float64`, `int32`,\n",
      "        or `int64`.\n",
      "      seed: A Python integer. Used to create a random seed for the distribution.\n",
      "        See @{tf.set_random_seed}\n",
      "        for behavior.\n",
      "      name: A name for the operation (optional).\n",
      "    \n",
      "    Returns:\n",
      "      A tensor of the specified shape filled with random uniform values.\n",
      "    \n",
      "    Raises:\n",
      "      ValueError: If `dtype` is integral and `maxval` is not specified.\n",
      "\n"
     ]
    }
   ],
   "source": [
    "help(tf.random_uniform)"
   ]
  },
  {
   "cell_type": "code",
   "execution_count": 26,
   "metadata": {
    "collapsed": true,
    "deletable": true,
    "editable": true
   },
   "outputs": [],
   "source": [
    "x2 = tf.random_uniform([],minval=-1, maxval=1)  # Empty array as shape creates a scalar.\n",
    "y2 = tf.random_uniform([],minval=-1, maxval=1)"
   ]
  },
  {
   "cell_type": "code",
   "execution_count": 14,
   "metadata": {
    "collapsed": false,
    "deletable": true,
    "editable": true
   },
   "outputs": [
    {
     "name": "stdout",
     "output_type": "stream",
     "text": [
      "0.153125 -0.664748\n"
     ]
    }
   ],
   "source": [
    "with tf.Session() as sess:\n",
    "    print(sess.run(x2),sess.run(y2))"
   ]
  },
  {
   "cell_type": "code",
   "execution_count": 15,
   "metadata": {
    "collapsed": true,
    "deletable": true,
    "editable": true
   },
   "outputs": [
    {
     "name": "stdout",
     "output_type": "stream",
     "text": [
      "Help on function case in module tensorflow.python.ops.control_flow_ops:\n",
      "\n",
      "case(pred_fn_pairs, default, exclusive=False, strict=False, name='case')\n",
      "    Create a case operation.\n",
      "    \n",
      "    The `pred_fn_pairs` parameter is a dict or list of pairs of size N.\n",
      "    Each pair contains a boolean scalar tensor and a python callable that\n",
      "    creates the tensors to be returned if the boolean evaluates to True.\n",
      "    `default` is a callable generating a list of tensors. All the callables\n",
      "    in `pred_fn_pairs` as well as `default` should return the same number\n",
      "    and types of tensors.\n",
      "    \n",
      "    If `exclusive==True`, all predicates are evaluated, and an exception is\n",
      "    thrown if more than one of the predicates evaluates to `True`.\n",
      "    If `exclusive==False`, execution stops are the first predicate which\n",
      "    evaluates to True, and the tensors generated by the corresponding function\n",
      "    are returned immediately. If none of the predicates evaluate to True, this\n",
      "    operation returns the tensors generated by `default`.\n",
      "    \n",
      "    `tf.case` supports nested structures as implemented in\n",
      "    `tensorflow.python.util.nest`. All of the callables must return the same\n",
      "    (possibly nested) value structure of lists, tuples, and/or named tuples.\n",
      "    Singleton lists and tuples form the only exceptions to this: when returned by\n",
      "    a callable, they are implicitly unpacked to single values. This\n",
      "    behavior is disabled by passing `strict=True`.\n",
      "    \n",
      "    If an unordered dictionary is used for `pred_fn_pairs`, the order of the\n",
      "    conditional tests is not guaranteed. However, the order is guaranteed to be\n",
      "    deterministic, so that variables created in conditional branches are created\n",
      "    in fixed order across runs.\n",
      "    \n",
      "    Example 1:\n",
      "      Pseudocode:\n",
      "      ```\n",
      "        if (x < y) return 17;\n",
      "        else return 23;\n",
      "      ```\n",
      "    \n",
      "      Expressions:\n",
      "      ```\n",
      "        f1 = lambda: tf.constant(17)\n",
      "        f2 = lambda: tf.constant(23)\n",
      "        r = case([(tf.less(x, y), f1)], default=f2)\n",
      "      ```\n",
      "    \n",
      "    Example 2:\n",
      "      Pseudocode:\n",
      "      ```\n",
      "        if (x < y && x > z) raise OpError(\"Only one predicate may evaluate true\");\n",
      "        if (x < y) return 17;\n",
      "        else if (x > z) return 23;\n",
      "        else return -1;\n",
      "      ```\n",
      "    \n",
      "      Expressions:\n",
      "      ```\n",
      "        def f1(): return tf.constant(17)\n",
      "        def f2(): return tf.constant(23)\n",
      "        def f3(): return tf.constant(-1)\n",
      "        r = case({tf.less(x, y): f1, tf.greater(x, z): f2},\n",
      "                 default=f3, exclusive=True)\n",
      "      ```\n",
      "    \n",
      "    Args:\n",
      "      pred_fn_pairs: Dict or list of pairs of a boolean scalar tensor and a\n",
      "                     callable which returns a list of tensors.\n",
      "      default: A callable that returns a list of tensors.\n",
      "      exclusive: True iff at most one predicate is allowed to evaluate to `True`.\n",
      "      strict: A boolean that enables/disables 'strict' mode; see above.\n",
      "      name: A name for this operation (optional).\n",
      "    \n",
      "    Returns:\n",
      "      The tensors returned by the first pair whose predicate evaluated to True, or\n",
      "      those returned by `default` if none does.\n",
      "    \n",
      "    Raises:\n",
      "      TypeError: If `pred_fn_pairs` is not a list/dictionary.\n",
      "      TypeError: If `pred_fn_pairs` is a list but does not contain 2-tuples.\n",
      "      TypeError: If `fns[i]` is not callable for any i, or `default` is not\n",
      "                 callable.\n",
      "\n"
     ]
    }
   ],
   "source": [
    "help(tf.case)"
   ]
  },
  {
   "cell_type": "code",
   "execution_count": 19,
   "metadata": {
    "collapsed": true,
    "deletable": true,
    "editable": true
   },
   "outputs": [
    {
     "ename": "TypeError",
     "evalue": "fn for pred Greater_4:0 must be callable.",
     "output_type": "error",
     "traceback": [
      "\u001b[1;31m---------------------------------------------------------------------------\u001b[0m",
      "\u001b[1;31mTypeError\u001b[0m                                 Traceback (most recent call last)",
      "\u001b[1;32m<ipython-input-19-977462cc9a7f>\u001b[0m in \u001b[0;36m<module>\u001b[1;34m()\u001b[0m\n\u001b[1;32m----> 1\u001b[1;33m \u001b[0mout2\u001b[0m \u001b[1;33m=\u001b[0m \u001b[0mtf\u001b[0m\u001b[1;33m.\u001b[0m\u001b[0mcase\u001b[0m\u001b[1;33m(\u001b[0m\u001b[1;33m{\u001b[0m\u001b[0mtf\u001b[0m\u001b[1;33m.\u001b[0m\u001b[0mless\u001b[0m\u001b[1;33m(\u001b[0m\u001b[0mx\u001b[0m\u001b[1;33m,\u001b[0m\u001b[0my\u001b[0m\u001b[1;33m)\u001b[0m\u001b[1;33m:\u001b[0m\u001b[0mtf\u001b[0m\u001b[1;33m.\u001b[0m\u001b[0madd\u001b[0m\u001b[1;33m(\u001b[0m\u001b[0mx\u001b[0m\u001b[1;33m,\u001b[0m\u001b[0my\u001b[0m\u001b[1;33m)\u001b[0m\u001b[1;33m,\u001b[0m \u001b[0mtf\u001b[0m\u001b[1;33m.\u001b[0m\u001b[0mgreater\u001b[0m\u001b[1;33m(\u001b[0m\u001b[0mx\u001b[0m\u001b[1;33m,\u001b[0m\u001b[0my\u001b[0m\u001b[1;33m)\u001b[0m\u001b[1;33m:\u001b[0m \u001b[0mtf\u001b[0m\u001b[1;33m.\u001b[0m\u001b[0msubtract\u001b[0m\u001b[1;33m(\u001b[0m\u001b[0mx\u001b[0m\u001b[1;33m,\u001b[0m\u001b[0my\u001b[0m\u001b[1;33m)\u001b[0m\u001b[1;33m}\u001b[0m\u001b[1;33m,\u001b[0m \u001b[0mdefault\u001b[0m\u001b[1;33m=\u001b[0m\u001b[0mtf\u001b[0m\u001b[1;33m.\u001b[0m\u001b[0mconstant\u001b[0m\u001b[1;33m(\u001b[0m\u001b[1;36m0.0\u001b[0m\u001b[1;33m)\u001b[0m\u001b[1;33m,\u001b[0m \u001b[0mexclusive\u001b[0m\u001b[1;33m=\u001b[0m\u001b[1;32mTrue\u001b[0m\u001b[1;33m)\u001b[0m\u001b[1;33m\u001b[0m\u001b[0m\n\u001b[0m",
      "\u001b[1;32mC:\\ProgramData\\Anaconda3\\lib\\site-packages\\tensorflow\\python\\ops\\control_flow_ops.py\u001b[0m in \u001b[0;36mcase\u001b[1;34m(pred_fn_pairs, default, exclusive, strict, name)\u001b[0m\n\u001b[0;32m   3072\u001b[0m       \u001b[1;32mraise\u001b[0m \u001b[0mTypeError\u001b[0m\u001b[1;33m(\u001b[0m\u001b[1;34m\"pred must be of type bool: %s\"\u001b[0m\u001b[1;33m,\u001b[0m \u001b[0mpred\u001b[0m\u001b[1;33m.\u001b[0m\u001b[0mname\u001b[0m\u001b[1;33m)\u001b[0m\u001b[1;33m\u001b[0m\u001b[0m\n\u001b[0;32m   3073\u001b[0m     \u001b[1;32mif\u001b[0m \u001b[1;32mnot\u001b[0m \u001b[0mcallable\u001b[0m\u001b[1;33m(\u001b[0m\u001b[0mfn\u001b[0m\u001b[1;33m)\u001b[0m\u001b[1;33m:\u001b[0m\u001b[1;33m\u001b[0m\u001b[0m\n\u001b[1;32m-> 3074\u001b[1;33m       \u001b[1;32mraise\u001b[0m \u001b[0mTypeError\u001b[0m\u001b[1;33m(\u001b[0m\u001b[1;34m\"fn for pred %s must be callable.\"\u001b[0m \u001b[1;33m%\u001b[0m \u001b[0mpred\u001b[0m\u001b[1;33m.\u001b[0m\u001b[0mname\u001b[0m\u001b[1;33m)\u001b[0m\u001b[1;33m\u001b[0m\u001b[0m\n\u001b[0m\u001b[0;32m   3075\u001b[0m   \u001b[1;32mif\u001b[0m \u001b[1;32mnot\u001b[0m \u001b[0mcallable\u001b[0m\u001b[1;33m(\u001b[0m\u001b[0mdefault\u001b[0m\u001b[1;33m)\u001b[0m\u001b[1;33m:\u001b[0m\u001b[1;33m\u001b[0m\u001b[0m\n\u001b[0;32m   3076\u001b[0m     \u001b[1;32mraise\u001b[0m \u001b[0mTypeError\u001b[0m\u001b[1;33m(\u001b[0m\u001b[1;34m\"default must be callable.\"\u001b[0m\u001b[1;33m)\u001b[0m\u001b[1;33m\u001b[0m\u001b[0m\n",
      "\u001b[1;31mTypeError\u001b[0m: fn for pred Greater_4:0 must be callable."
     ]
    }
   ],
   "source": [
    "out2 = tf.case({tf.less(x2,y2):tf.add(x2,y2), tf.greater(x2,y2): tf.subtract(x2,y2)}, default=tf.constant(0.0), exclusive=True)"
   ]
  },
  {
   "cell_type": "code",
   "execution_count": 27,
   "metadata": {
    "collapsed": true,
    "deletable": true,
    "editable": true
   },
   "outputs": [],
   "source": [
    "out2 = tf.case({tf.less(x2,y2): lambda: tf.add(x2,y2), tf.greater(x2,y2): lambda: tf.subtract(x2,y2)}, default= lambda: tf.constant(0.0), exclusive=True)"
   ]
  },
  {
   "cell_type": "code",
   "execution_count": 18,
   "metadata": {
    "collapsed": true,
    "deletable": true,
    "editable": true
   },
   "outputs": [],
   "source": [
    "sess = tf.InteractiveSession()"
   ]
  },
  {
   "cell_type": "code",
   "execution_count": 35,
   "metadata": {
    "collapsed": false,
    "deletable": true,
    "editable": true
   },
   "outputs": [
    {
     "name": "stdout",
     "output_type": "stream",
     "text": [
      "-0.666137 0.973958 Tensor(\"case_2/If_2/Merge:0\", shape=(), dtype=float32) 0.339308\n"
     ]
    }
   ],
   "source": [
    "print(sess.run(x2), sess.run(y2), out2, sess.run(out2))"
   ]
  },
  {
   "cell_type": "code",
   "execution_count": 6,
   "metadata": {
    "collapsed": true,
    "deletable": true,
    "editable": true
   },
   "outputs": [],
   "source": [
    "###############################################################################\n",
    "# 1c: Create the tensor x of the value [[0, -2, -1], [0, 1, 2]] \n",
    "# and y as a tensor of zeros with the same shape as x.\n",
    "# Return a boolean tensor that yields Trues if x equals y element-wise.\n",
    "# Hint: Look up tf.equal().\n",
    "###############################################################################"
   ]
  },
  {
   "cell_type": "code",
   "execution_count": 11,
   "metadata": {
    "collapsed": true
   },
   "outputs": [],
   "source": [
    "x3 = tf.constant([[0, -2, -1], [0, 1, 2]], dtype=tf.int32)"
   ]
  },
  {
   "cell_type": "code",
   "execution_count": 12,
   "metadata": {
    "collapsed": false
   },
   "outputs": [
    {
     "data": {
      "text/plain": [
       "<tf.Tensor 'Const_1:0' shape=(2, 3) dtype=int32>"
      ]
     },
     "execution_count": 12,
     "metadata": {},
     "output_type": "execute_result"
    }
   ],
   "source": [
    "x3"
   ]
  },
  {
   "cell_type": "code",
   "execution_count": 13,
   "metadata": {
    "collapsed": true
   },
   "outputs": [],
   "source": [
    "y3 = tf.zeros_like(x3)"
   ]
  },
  {
   "cell_type": "code",
   "execution_count": 14,
   "metadata": {
    "collapsed": false
   },
   "outputs": [
    {
     "data": {
      "text/plain": [
       "<tf.Tensor 'zeros_like_1:0' shape=(2, 3) dtype=int32>"
      ]
     },
     "execution_count": 14,
     "metadata": {},
     "output_type": "execute_result"
    }
   ],
   "source": [
    "y3"
   ]
  },
  {
   "cell_type": "code",
   "execution_count": 15,
   "metadata": {
    "collapsed": true
   },
   "outputs": [],
   "source": [
    "out3 = tf.equal(x3, y3)"
   ]
  },
  {
   "cell_type": "code",
   "execution_count": 19,
   "metadata": {
    "collapsed": false
   },
   "outputs": [
    {
     "name": "stdout",
     "output_type": "stream",
     "text": [
      "[[ True False False]\n",
      " [ True False False]]\n"
     ]
    }
   ],
   "source": [
    "print (sess.run(out3))"
   ]
  },
  {
   "cell_type": "code",
   "execution_count": 20,
   "metadata": {
    "collapsed": true
   },
   "outputs": [],
   "source": [
    "matrix = [29.05088806,  27.61298943,  31.19073486,  29.35532951,\n",
    "          30.97266006,  26.67541885,  38.08450317,  20.74983215,\n",
    "          34.94445419,  34.45999146,  29.06485367,  36.01657104,\n",
    "          27.88236427,  20.56035233,  30.20379066,  29.51215172,\n",
    "          33.71149445,  28.59134293,  36.05556488,  28.66994858]"
   ]
  },
  {
   "cell_type": "code",
   "execution_count": 21,
   "metadata": {
    "collapsed": true
   },
   "outputs": [],
   "source": [
    "x4 = tf.constant(matrix)"
   ]
  },
  {
   "cell_type": "code",
   "execution_count": 22,
   "metadata": {
    "collapsed": false
   },
   "outputs": [
    {
     "name": "stdout",
     "output_type": "stream",
     "text": [
      "Help on function where in module tensorflow.python.ops.array_ops:\n",
      "\n",
      "where(condition, x=None, y=None, name=None)\n",
      "    Return the elements, either from `x` or `y`, depending on the `condition`.\n",
      "    \n",
      "    If both `x` and `y` are None, then this operation returns the coordinates of\n",
      "    true elements of `condition`.  The coordinates are returned in a 2-D tensor\n",
      "    where the first dimension (rows) represents the number of true elements, and\n",
      "    the second dimension (columns) represents the coordinates of the true\n",
      "    elements. Keep in mind, the shape of the output tensor can vary depending on\n",
      "    how many true values there are in input. Indices are output in row-major\n",
      "    order.\n",
      "    \n",
      "    If both non-None, `x` and `y` must have the same shape.\n",
      "    The `condition` tensor must be a scalar if `x` and `y` are scalar.\n",
      "    If `x` and `y` are vectors or higher rank, then `condition` must be either a\n",
      "    vector with size matching the first dimension of `x`, or must have the same\n",
      "    shape as `x`.\n",
      "    \n",
      "    The `condition` tensor acts as a mask that chooses, based on the value at each\n",
      "    element, whether the corresponding element / row in the output should be taken\n",
      "    from `x` (if true) or `y` (if false).\n",
      "    \n",
      "    If `condition` is a vector and `x` and `y` are higher rank matrices, then it\n",
      "    chooses which row (outer dimension) to copy from `x` and `y`. If `condition`\n",
      "    has the same shape as `x` and `y`, then it chooses which element to copy from\n",
      "    `x` and `y`.\n",
      "    \n",
      "    Args:\n",
      "      condition: A `Tensor` of type `bool`\n",
      "      x: A Tensor which may have the same shape as `condition`. If `condition` is\n",
      "        rank 1, `x` may have higher rank, but its first dimension must match the\n",
      "        size of `condition`.\n",
      "      y: A `tensor` with the same shape and type as `x`.\n",
      "      name: A name of the operation (optional)\n",
      "    \n",
      "    Returns:\n",
      "      A `Tensor` with the same type and shape as `x`, `y` if they are non-None.\n",
      "      A `Tensor` with shape `(num_true, dim_size(condition))`.\n",
      "    \n",
      "    Raises:\n",
      "      ValueError: When exactly one of `x` or `y` is non-None.\n",
      "\n"
     ]
    }
   ],
   "source": [
    "help(tf.where)"
   ]
  },
  {
   "cell_type": "code",
   "execution_count": null,
   "metadata": {
    "collapsed": true
   },
   "outputs": [],
   "source": []
  }
 ],
 "metadata": {
  "kernelspec": {
   "display_name": "Python 2",
   "language": "python",
   "name": "python2"
  },
  "language_info": {
   "codemirror_mode": {
    "name": "ipython",
    "version": 2
   },
   "file_extension": ".py",
   "mimetype": "text/x-python",
   "name": "python",
   "nbconvert_exporter": "python",
   "pygments_lexer": "ipython2",
   "version": "2.7.10"
  }
 },
 "nbformat": 4,
 "nbformat_minor": 2
}
